{
 "cells": [
  {
   "cell_type": "code",
   "execution_count": 1,
   "metadata": {
    "collapsed": true
   },
   "outputs": [],
   "source": [
    "# Import libraries\n",
    "import numpy as np\n",
    "import pandas as pd"
   ]
  },
  {
   "cell_type": "code",
   "execution_count": 2,
   "metadata": {
    "collapsed": false
   },
   "outputs": [
    {
     "name": "stdout",
     "output_type": "stream",
     "text": [
      "Data read successfully!\n"
     ]
    }
   ],
   "source": [
    "# Read crime data\n",
    "crime_data = pd.read_csv(\"train.csv\", parse_dates=['Dates'])\n",
    "print \"Data read successfully!\""
   ]
  },
  {
   "cell_type": "code",
   "execution_count": 3,
   "metadata": {
    "collapsed": false
   },
   "outputs": [
    {
     "data": {
      "text/html": [
       "<div>\n",
       "<table border=\"1\" class=\"dataframe\">\n",
       "  <thead>\n",
       "    <tr style=\"text-align: right;\">\n",
       "      <th></th>\n",
       "      <th>Dates</th>\n",
       "      <th>Category</th>\n",
       "      <th>Descript</th>\n",
       "      <th>DayOfWeek</th>\n",
       "      <th>PdDistrict</th>\n",
       "      <th>Resolution</th>\n",
       "      <th>Address</th>\n",
       "      <th>X</th>\n",
       "      <th>Y</th>\n",
       "    </tr>\n",
       "  </thead>\n",
       "  <tbody>\n",
       "    <tr>\n",
       "      <th>0</th>\n",
       "      <td>2015-05-13 23:53:00</td>\n",
       "      <td>WARRANTS</td>\n",
       "      <td>WARRANT ARREST</td>\n",
       "      <td>Wednesday</td>\n",
       "      <td>NORTHERN</td>\n",
       "      <td>ARREST, BOOKED</td>\n",
       "      <td>OAK ST / LAGUNA ST</td>\n",
       "      <td>-122.425892</td>\n",
       "      <td>37.774599</td>\n",
       "    </tr>\n",
       "    <tr>\n",
       "      <th>1</th>\n",
       "      <td>2015-05-13 23:53:00</td>\n",
       "      <td>OTHER OFFENSES</td>\n",
       "      <td>TRAFFIC VIOLATION ARREST</td>\n",
       "      <td>Wednesday</td>\n",
       "      <td>NORTHERN</td>\n",
       "      <td>ARREST, BOOKED</td>\n",
       "      <td>OAK ST / LAGUNA ST</td>\n",
       "      <td>-122.425892</td>\n",
       "      <td>37.774599</td>\n",
       "    </tr>\n",
       "    <tr>\n",
       "      <th>2</th>\n",
       "      <td>2015-05-13 23:33:00</td>\n",
       "      <td>OTHER OFFENSES</td>\n",
       "      <td>TRAFFIC VIOLATION ARREST</td>\n",
       "      <td>Wednesday</td>\n",
       "      <td>NORTHERN</td>\n",
       "      <td>ARREST, BOOKED</td>\n",
       "      <td>VANNESS AV / GREENWICH ST</td>\n",
       "      <td>-122.424363</td>\n",
       "      <td>37.800414</td>\n",
       "    </tr>\n",
       "    <tr>\n",
       "      <th>3</th>\n",
       "      <td>2015-05-13 23:30:00</td>\n",
       "      <td>LARCENY/THEFT</td>\n",
       "      <td>GRAND THEFT FROM LOCKED AUTO</td>\n",
       "      <td>Wednesday</td>\n",
       "      <td>NORTHERN</td>\n",
       "      <td>NONE</td>\n",
       "      <td>1500 Block of LOMBARD ST</td>\n",
       "      <td>-122.426995</td>\n",
       "      <td>37.800873</td>\n",
       "    </tr>\n",
       "    <tr>\n",
       "      <th>4</th>\n",
       "      <td>2015-05-13 23:30:00</td>\n",
       "      <td>LARCENY/THEFT</td>\n",
       "      <td>GRAND THEFT FROM LOCKED AUTO</td>\n",
       "      <td>Wednesday</td>\n",
       "      <td>PARK</td>\n",
       "      <td>NONE</td>\n",
       "      <td>100 Block of BRODERICK ST</td>\n",
       "      <td>-122.438738</td>\n",
       "      <td>37.771541</td>\n",
       "    </tr>\n",
       "  </tbody>\n",
       "</table>\n",
       "</div>"
      ],
      "text/plain": [
       "                Dates        Category                      Descript  \\\n",
       "0 2015-05-13 23:53:00        WARRANTS                WARRANT ARREST   \n",
       "1 2015-05-13 23:53:00  OTHER OFFENSES      TRAFFIC VIOLATION ARREST   \n",
       "2 2015-05-13 23:33:00  OTHER OFFENSES      TRAFFIC VIOLATION ARREST   \n",
       "3 2015-05-13 23:30:00   LARCENY/THEFT  GRAND THEFT FROM LOCKED AUTO   \n",
       "4 2015-05-13 23:30:00   LARCENY/THEFT  GRAND THEFT FROM LOCKED AUTO   \n",
       "\n",
       "   DayOfWeek PdDistrict      Resolution                    Address  \\\n",
       "0  Wednesday   NORTHERN  ARREST, BOOKED         OAK ST / LAGUNA ST   \n",
       "1  Wednesday   NORTHERN  ARREST, BOOKED         OAK ST / LAGUNA ST   \n",
       "2  Wednesday   NORTHERN  ARREST, BOOKED  VANNESS AV / GREENWICH ST   \n",
       "3  Wednesday   NORTHERN            NONE   1500 Block of LOMBARD ST   \n",
       "4  Wednesday       PARK            NONE  100 Block of BRODERICK ST   \n",
       "\n",
       "            X          Y  \n",
       "0 -122.425892  37.774599  \n",
       "1 -122.425892  37.774599  \n",
       "2 -122.424363  37.800414  \n",
       "3 -122.426995  37.800873  \n",
       "4 -122.438738  37.771541  "
      ]
     },
     "execution_count": 3,
     "metadata": {},
     "output_type": "execute_result"
    }
   ],
   "source": [
    "crime_data.head()"
   ]
  },
  {
   "cell_type": "code",
   "execution_count": 4,
   "metadata": {
    "collapsed": false
   },
   "outputs": [
    {
     "data": {
      "text/plain": [
       "array(['WARRANTS', 'OTHER OFFENSES', 'LARCENY/THEFT', 'VEHICLE THEFT',\n",
       "       'VANDALISM', 'NON-CRIMINAL', 'ROBBERY', 'ASSAULT', 'WEAPON LAWS',\n",
       "       'BURGLARY', 'SUSPICIOUS OCC', 'DRUNKENNESS',\n",
       "       'FORGERY/COUNTERFEITING', 'DRUG/NARCOTIC', 'STOLEN PROPERTY',\n",
       "       'SECONDARY CODES', 'TRESPASS', 'MISSING PERSON', 'FRAUD',\n",
       "       'KIDNAPPING', 'RUNAWAY', 'DRIVING UNDER THE INFLUENCE',\n",
       "       'SEX OFFENSES FORCIBLE', 'PROSTITUTION', 'DISORDERLY CONDUCT',\n",
       "       'ARSON', 'FAMILY OFFENSES', 'LIQUOR LAWS', 'BRIBERY',\n",
       "       'EMBEZZLEMENT', 'SUICIDE', 'LOITERING', 'SEX OFFENSES NON FORCIBLE',\n",
       "       'EXTORTION', 'GAMBLING', 'BAD CHECKS', 'TREA', 'RECOVERED VEHICLE',\n",
       "       'PORNOGRAPHY/OBSCENE MAT'], dtype=object)"
      ]
     },
     "execution_count": 4,
     "metadata": {},
     "output_type": "execute_result"
    }
   ],
   "source": [
    "Catagories = crime_data[\"Category\"].unique()\n",
    "Catagories"
   ]
  },
  {
   "cell_type": "code",
   "execution_count": 5,
   "metadata": {
    "collapsed": false
   },
   "outputs": [
    {
     "data": {
      "text/plain": [
       "array(['Dates', 'Category', 'Descript', 'DayOfWeek', 'PdDistrict',\n",
       "       'Resolution', 'Address', 'X', 'Y'], dtype=object)"
      ]
     },
     "execution_count": 5,
     "metadata": {},
     "output_type": "execute_result"
    }
   ],
   "source": [
    "crime_data.columns.values"
   ]
  },
  {
   "cell_type": "code",
   "execution_count": 6,
   "metadata": {
    "collapsed": true
   },
   "outputs": [],
   "source": [
    "columns_ = [\n",
    "    'Dates', #timestamp of the crime incident\n",
    "    #'Category', #category of the crime incident (only in train.csv). This is the target variable you are going to predict.\n",
    "    'Descript', #detailed description of the crime incident (only in train.csv)\n",
    "    #'DayOfWeek', #the day of the week\n",
    "    #'PdDistrict', #name of the Police Department District\n",
    "    'Resolution', #how the crime incident was resolved (only in train.csv)\n",
    "    'Address', #the approximate street address of the crime incident \n",
    "    #'X', #Longitude\n",
    "    #'Y' #Latitude\n",
    "]"
   ]
  },
  {
   "cell_type": "code",
   "execution_count": 7,
   "metadata": {
    "collapsed": true
   },
   "outputs": [],
   "source": [
    "def PreProcess(data,t_data = False):\n",
    "\n",
    "\n",
    "    #Convert Dates Column to Year, Month, Day, Hour individual columns\n",
    "    data['Year'] = data['Dates'].map(lambda x: x.year)\n",
    "    data['Month'] = data['Dates'].map(lambda x: x.month)\n",
    "    data['Day'] = data['Dates'].map(lambda x: x.day) \n",
    "    data['Hour'] = data['Dates'].map(lambda x: x.hour) \n",
    "    \n",
    "    #Drop unneccessary columns\n",
    "    if not t_data:\n",
    "        data = data.drop(columns_, 1)\n",
    "    else:\n",
    "        data = data.drop(['Id','Dates','Address'], 1)\n",
    "            \n",
    "    \n",
    "    # Preprocess feature columns\n",
    "    outX = pd.DataFrame(index=data.index)  # output dataframe, initially empty\n",
    "\n",
    "    # Check each column\n",
    "    for col, col_data in data.iteritems():\n",
    "        # If non-numeric, convert to one or more dummy variables\n",
    "        if (col_data.dtype == object):\n",
    "            col_data = pd.get_dummies(col_data)  # e.g. 'action_type' => 'action_type_Jump Shot', \n",
    "                                                             #'action_type_Driving Dunk Shot'\n",
    "\n",
    "        outX = outX.join(col_data)  # collect column(s) in output dataframe\n",
    "        \n",
    "    from sklearn.preprocessing import StandardScaler\n",
    "\n",
    "    stdsclr = StandardScaler()\n",
    "    outX[['Year','Month','Day', 'Hour','X','Y']] = stdsclr.fit_transform(outX[['Year','Month','Day', 'Hour','X','Y']])    \n",
    "\n",
    "    return outX "
   ]
  },
  {
   "cell_type": "code",
   "execution_count": 8,
   "metadata": {
    "collapsed": false,
    "scrolled": true
   },
   "outputs": [
    {
     "data": {
      "text/html": [
       "<div>\n",
       "<table border=\"1\" class=\"dataframe\">\n",
       "  <thead>\n",
       "    <tr style=\"text-align: right;\">\n",
       "      <th></th>\n",
       "      <th>ARSON</th>\n",
       "      <th>ASSAULT</th>\n",
       "      <th>BAD CHECKS</th>\n",
       "      <th>BRIBERY</th>\n",
       "      <th>BURGLARY</th>\n",
       "      <th>DISORDERLY CONDUCT</th>\n",
       "      <th>DRIVING UNDER THE INFLUENCE</th>\n",
       "      <th>DRUG/NARCOTIC</th>\n",
       "      <th>DRUNKENNESS</th>\n",
       "      <th>EMBEZZLEMENT</th>\n",
       "      <th>...</th>\n",
       "      <th>RICHMOND</th>\n",
       "      <th>SOUTHERN</th>\n",
       "      <th>TARAVAL</th>\n",
       "      <th>TENDERLOIN</th>\n",
       "      <th>X</th>\n",
       "      <th>Y</th>\n",
       "      <th>Year</th>\n",
       "      <th>Month</th>\n",
       "      <th>Day</th>\n",
       "      <th>Hour</th>\n",
       "    </tr>\n",
       "  </thead>\n",
       "  <tbody>\n",
       "    <tr>\n",
       "      <th>0</th>\n",
       "      <td>0</td>\n",
       "      <td>0</td>\n",
       "      <td>0</td>\n",
       "      <td>0</td>\n",
       "      <td>0</td>\n",
       "      <td>0</td>\n",
       "      <td>0</td>\n",
       "      <td>0</td>\n",
       "      <td>0</td>\n",
       "      <td>0</td>\n",
       "      <td>...</td>\n",
       "      <td>0</td>\n",
       "      <td>0</td>\n",
       "      <td>0</td>\n",
       "      <td>0</td>\n",
       "      <td>-0.107902</td>\n",
       "      <td>0.007832</td>\n",
       "      <td>1.73165</td>\n",
       "      <td>-0.418933</td>\n",
       "      <td>-0.292682</td>\n",
       "      <td>1.463813</td>\n",
       "    </tr>\n",
       "    <tr>\n",
       "      <th>1</th>\n",
       "      <td>0</td>\n",
       "      <td>0</td>\n",
       "      <td>0</td>\n",
       "      <td>0</td>\n",
       "      <td>0</td>\n",
       "      <td>0</td>\n",
       "      <td>0</td>\n",
       "      <td>0</td>\n",
       "      <td>0</td>\n",
       "      <td>0</td>\n",
       "      <td>...</td>\n",
       "      <td>0</td>\n",
       "      <td>0</td>\n",
       "      <td>0</td>\n",
       "      <td>0</td>\n",
       "      <td>-0.107902</td>\n",
       "      <td>0.007832</td>\n",
       "      <td>1.73165</td>\n",
       "      <td>-0.418933</td>\n",
       "      <td>-0.292682</td>\n",
       "      <td>1.463813</td>\n",
       "    </tr>\n",
       "    <tr>\n",
       "      <th>2</th>\n",
       "      <td>0</td>\n",
       "      <td>0</td>\n",
       "      <td>0</td>\n",
       "      <td>0</td>\n",
       "      <td>0</td>\n",
       "      <td>0</td>\n",
       "      <td>0</td>\n",
       "      <td>0</td>\n",
       "      <td>0</td>\n",
       "      <td>0</td>\n",
       "      <td>...</td>\n",
       "      <td>0</td>\n",
       "      <td>0</td>\n",
       "      <td>0</td>\n",
       "      <td>0</td>\n",
       "      <td>-0.057541</td>\n",
       "      <td>0.064335</td>\n",
       "      <td>1.73165</td>\n",
       "      <td>-0.418933</td>\n",
       "      <td>-0.292682</td>\n",
       "      <td>1.463813</td>\n",
       "    </tr>\n",
       "    <tr>\n",
       "      <th>3</th>\n",
       "      <td>0</td>\n",
       "      <td>0</td>\n",
       "      <td>0</td>\n",
       "      <td>0</td>\n",
       "      <td>0</td>\n",
       "      <td>0</td>\n",
       "      <td>0</td>\n",
       "      <td>0</td>\n",
       "      <td>0</td>\n",
       "      <td>0</td>\n",
       "      <td>...</td>\n",
       "      <td>0</td>\n",
       "      <td>0</td>\n",
       "      <td>0</td>\n",
       "      <td>0</td>\n",
       "      <td>-0.144262</td>\n",
       "      <td>0.065338</td>\n",
       "      <td>1.73165</td>\n",
       "      <td>-0.418933</td>\n",
       "      <td>-0.292682</td>\n",
       "      <td>1.463813</td>\n",
       "    </tr>\n",
       "    <tr>\n",
       "      <th>4</th>\n",
       "      <td>0</td>\n",
       "      <td>0</td>\n",
       "      <td>0</td>\n",
       "      <td>0</td>\n",
       "      <td>0</td>\n",
       "      <td>0</td>\n",
       "      <td>0</td>\n",
       "      <td>0</td>\n",
       "      <td>0</td>\n",
       "      <td>0</td>\n",
       "      <td>...</td>\n",
       "      <td>0</td>\n",
       "      <td>0</td>\n",
       "      <td>0</td>\n",
       "      <td>0</td>\n",
       "      <td>-0.531112</td>\n",
       "      <td>0.001140</td>\n",
       "      <td>1.73165</td>\n",
       "      <td>-0.418933</td>\n",
       "      <td>-0.292682</td>\n",
       "      <td>1.463813</td>\n",
       "    </tr>\n",
       "  </tbody>\n",
       "</table>\n",
       "<p>5 rows × 62 columns</p>\n",
       "</div>"
      ],
      "text/plain": [
       "   ARSON  ASSAULT  BAD CHECKS  BRIBERY  BURGLARY  DISORDERLY CONDUCT  \\\n",
       "0      0        0           0        0         0                   0   \n",
       "1      0        0           0        0         0                   0   \n",
       "2      0        0           0        0         0                   0   \n",
       "3      0        0           0        0         0                   0   \n",
       "4      0        0           0        0         0                   0   \n",
       "\n",
       "   DRIVING UNDER THE INFLUENCE  DRUG/NARCOTIC  DRUNKENNESS  EMBEZZLEMENT  \\\n",
       "0                            0              0            0             0   \n",
       "1                            0              0            0             0   \n",
       "2                            0              0            0             0   \n",
       "3                            0              0            0             0   \n",
       "4                            0              0            0             0   \n",
       "\n",
       "     ...     RICHMOND  SOUTHERN  TARAVAL  TENDERLOIN         X         Y  \\\n",
       "0    ...            0         0        0           0 -0.107902  0.007832   \n",
       "1    ...            0         0        0           0 -0.107902  0.007832   \n",
       "2    ...            0         0        0           0 -0.057541  0.064335   \n",
       "3    ...            0         0        0           0 -0.144262  0.065338   \n",
       "4    ...            0         0        0           0 -0.531112  0.001140   \n",
       "\n",
       "      Year     Month       Day      Hour  \n",
       "0  1.73165 -0.418933 -0.292682  1.463813  \n",
       "1  1.73165 -0.418933 -0.292682  1.463813  \n",
       "2  1.73165 -0.418933 -0.292682  1.463813  \n",
       "3  1.73165 -0.418933 -0.292682  1.463813  \n",
       "4  1.73165 -0.418933 -0.292682  1.463813  \n",
       "\n",
       "[5 rows x 62 columns]"
      ]
     },
     "execution_count": 8,
     "metadata": {},
     "output_type": "execute_result"
    }
   ],
   "source": [
    "processed_crime_data = PreProcess(crime_data)\n",
    "processed_crime_data.head()\n"
   ]
  },
  {
   "cell_type": "code",
   "execution_count": 9,
   "metadata": {
    "collapsed": false
   },
   "outputs": [
    {
     "name": "stdout",
     "output_type": "stream",
     "text": [
      "Index([u'ARSON', u'ASSAULT', u'BAD CHECKS', u'BRIBERY', u'BURGLARY',\n",
      "       u'DISORDERLY CONDUCT', u'DRIVING UNDER THE INFLUENCE', u'DRUG/NARCOTIC',\n",
      "       u'DRUNKENNESS', u'EMBEZZLEMENT', u'EXTORTION', u'FAMILY OFFENSES',\n",
      "       u'FORGERY/COUNTERFEITING', u'FRAUD', u'GAMBLING', u'KIDNAPPING',\n",
      "       u'LARCENY/THEFT', u'LIQUOR LAWS', u'LOITERING', u'MISSING PERSON',\n",
      "       u'NON-CRIMINAL', u'OTHER OFFENSES', u'PORNOGRAPHY/OBSCENE MAT',\n",
      "       u'PROSTITUTION', u'RECOVERED VEHICLE', u'ROBBERY', u'RUNAWAY',\n",
      "       u'SECONDARY CODES', u'SEX OFFENSES FORCIBLE',\n",
      "       u'SEX OFFENSES NON FORCIBLE', u'STOLEN PROPERTY', u'SUICIDE',\n",
      "       u'SUSPICIOUS OCC', u'TREA', u'TRESPASS', u'VANDALISM', u'VEHICLE THEFT',\n",
      "       u'WARRANTS', u'WEAPON LAWS'],\n",
      "      dtype='object')\n"
     ]
    }
   ],
   "source": [
    "feature_cols = ['X','Y','Year','Month','Day','Hour',\n",
    "                'NORTHERN', 'PARK', 'INGLESIDE', 'BAYVIEW', 'RICHMOND', 'CENTRAL','TARAVAL', 'TENDERLOIN', 'MISSION', 'SOUTHERN',\n",
    "                'Friday', 'Monday', 'Saturday','Sunday', 'Thursday', 'Tuesday', 'Wednesday']\n",
    "target_cols = processed_crime_data.columns.difference(feature_cols)\n",
    "print target_cols"
   ]
  },
  {
   "cell_type": "code",
   "execution_count": 10,
   "metadata": {
    "collapsed": false
   },
   "outputs": [
    {
     "data": {
      "text/html": [
       "<div>\n",
       "<table border=\"1\" class=\"dataframe\">\n",
       "  <thead>\n",
       "    <tr style=\"text-align: right;\">\n",
       "      <th></th>\n",
       "      <th>BAYVIEW</th>\n",
       "      <th>CENTRAL</th>\n",
       "      <th>Day</th>\n",
       "      <th>Friday</th>\n",
       "      <th>Hour</th>\n",
       "      <th>INGLESIDE</th>\n",
       "      <th>MISSION</th>\n",
       "      <th>Monday</th>\n",
       "      <th>Month</th>\n",
       "      <th>NORTHERN</th>\n",
       "      <th>...</th>\n",
       "      <th>Saturday</th>\n",
       "      <th>Sunday</th>\n",
       "      <th>TARAVAL</th>\n",
       "      <th>TENDERLOIN</th>\n",
       "      <th>Thursday</th>\n",
       "      <th>Tuesday</th>\n",
       "      <th>Wednesday</th>\n",
       "      <th>X</th>\n",
       "      <th>Y</th>\n",
       "      <th>Year</th>\n",
       "    </tr>\n",
       "  </thead>\n",
       "  <tbody>\n",
       "    <tr>\n",
       "      <th>0</th>\n",
       "      <td>0</td>\n",
       "      <td>0</td>\n",
       "      <td>-0.292682</td>\n",
       "      <td>0</td>\n",
       "      <td>1.463813</td>\n",
       "      <td>0</td>\n",
       "      <td>0</td>\n",
       "      <td>0</td>\n",
       "      <td>-0.418933</td>\n",
       "      <td>1</td>\n",
       "      <td>...</td>\n",
       "      <td>0</td>\n",
       "      <td>0</td>\n",
       "      <td>0</td>\n",
       "      <td>0</td>\n",
       "      <td>0</td>\n",
       "      <td>0</td>\n",
       "      <td>1</td>\n",
       "      <td>-0.107902</td>\n",
       "      <td>0.007832</td>\n",
       "      <td>1.73165</td>\n",
       "    </tr>\n",
       "    <tr>\n",
       "      <th>1</th>\n",
       "      <td>0</td>\n",
       "      <td>0</td>\n",
       "      <td>-0.292682</td>\n",
       "      <td>0</td>\n",
       "      <td>1.463813</td>\n",
       "      <td>0</td>\n",
       "      <td>0</td>\n",
       "      <td>0</td>\n",
       "      <td>-0.418933</td>\n",
       "      <td>1</td>\n",
       "      <td>...</td>\n",
       "      <td>0</td>\n",
       "      <td>0</td>\n",
       "      <td>0</td>\n",
       "      <td>0</td>\n",
       "      <td>0</td>\n",
       "      <td>0</td>\n",
       "      <td>1</td>\n",
       "      <td>-0.107902</td>\n",
       "      <td>0.007832</td>\n",
       "      <td>1.73165</td>\n",
       "    </tr>\n",
       "    <tr>\n",
       "      <th>2</th>\n",
       "      <td>0</td>\n",
       "      <td>0</td>\n",
       "      <td>-0.292682</td>\n",
       "      <td>0</td>\n",
       "      <td>1.463813</td>\n",
       "      <td>0</td>\n",
       "      <td>0</td>\n",
       "      <td>0</td>\n",
       "      <td>-0.418933</td>\n",
       "      <td>1</td>\n",
       "      <td>...</td>\n",
       "      <td>0</td>\n",
       "      <td>0</td>\n",
       "      <td>0</td>\n",
       "      <td>0</td>\n",
       "      <td>0</td>\n",
       "      <td>0</td>\n",
       "      <td>1</td>\n",
       "      <td>-0.057541</td>\n",
       "      <td>0.064335</td>\n",
       "      <td>1.73165</td>\n",
       "    </tr>\n",
       "    <tr>\n",
       "      <th>3</th>\n",
       "      <td>0</td>\n",
       "      <td>0</td>\n",
       "      <td>-0.292682</td>\n",
       "      <td>0</td>\n",
       "      <td>1.463813</td>\n",
       "      <td>0</td>\n",
       "      <td>0</td>\n",
       "      <td>0</td>\n",
       "      <td>-0.418933</td>\n",
       "      <td>1</td>\n",
       "      <td>...</td>\n",
       "      <td>0</td>\n",
       "      <td>0</td>\n",
       "      <td>0</td>\n",
       "      <td>0</td>\n",
       "      <td>0</td>\n",
       "      <td>0</td>\n",
       "      <td>1</td>\n",
       "      <td>-0.144262</td>\n",
       "      <td>0.065338</td>\n",
       "      <td>1.73165</td>\n",
       "    </tr>\n",
       "    <tr>\n",
       "      <th>4</th>\n",
       "      <td>0</td>\n",
       "      <td>0</td>\n",
       "      <td>-0.292682</td>\n",
       "      <td>0</td>\n",
       "      <td>1.463813</td>\n",
       "      <td>0</td>\n",
       "      <td>0</td>\n",
       "      <td>0</td>\n",
       "      <td>-0.418933</td>\n",
       "      <td>0</td>\n",
       "      <td>...</td>\n",
       "      <td>0</td>\n",
       "      <td>0</td>\n",
       "      <td>0</td>\n",
       "      <td>0</td>\n",
       "      <td>0</td>\n",
       "      <td>0</td>\n",
       "      <td>1</td>\n",
       "      <td>-0.531112</td>\n",
       "      <td>0.001140</td>\n",
       "      <td>1.73165</td>\n",
       "    </tr>\n",
       "  </tbody>\n",
       "</table>\n",
       "<p>5 rows × 23 columns</p>\n",
       "</div>"
      ],
      "text/plain": [
       "   BAYVIEW  CENTRAL       Day  Friday      Hour  INGLESIDE  MISSION  Monday  \\\n",
       "0        0        0 -0.292682       0  1.463813          0        0       0   \n",
       "1        0        0 -0.292682       0  1.463813          0        0       0   \n",
       "2        0        0 -0.292682       0  1.463813          0        0       0   \n",
       "3        0        0 -0.292682       0  1.463813          0        0       0   \n",
       "4        0        0 -0.292682       0  1.463813          0        0       0   \n",
       "\n",
       "      Month  NORTHERN   ...     Saturday  Sunday  TARAVAL  TENDERLOIN  \\\n",
       "0 -0.418933         1   ...            0       0        0           0   \n",
       "1 -0.418933         1   ...            0       0        0           0   \n",
       "2 -0.418933         1   ...            0       0        0           0   \n",
       "3 -0.418933         1   ...            0       0        0           0   \n",
       "4 -0.418933         0   ...            0       0        0           0   \n",
       "\n",
       "   Thursday  Tuesday  Wednesday         X         Y     Year  \n",
       "0         0        0          1 -0.107902  0.007832  1.73165  \n",
       "1         0        0          1 -0.107902  0.007832  1.73165  \n",
       "2         0        0          1 -0.057541  0.064335  1.73165  \n",
       "3         0        0          1 -0.144262  0.065338  1.73165  \n",
       "4         0        0          1 -0.531112  0.001140  1.73165  \n",
       "\n",
       "[5 rows x 23 columns]"
      ]
     },
     "execution_count": 10,
     "metadata": {},
     "output_type": "execute_result"
    }
   ],
   "source": [
    "X_all = processed_crime_data[feature_cols]\n",
    "X_all = X_all.sort_index(axis=1) #Sort Columns\n",
    "X_all.head()"
   ]
  },
  {
   "cell_type": "code",
   "execution_count": 12,
   "metadata": {
    "collapsed": false
   },
   "outputs": [
    {
     "data": {
      "text/plain": [
       "Index([u'BAYVIEW', u'CENTRAL', u'Day', u'Friday', u'Hour', u'INGLESIDE',\n",
       "       u'MISSION', u'Monday', u'Month', u'NORTHERN', u'PARK', u'RICHMOND',\n",
       "       u'SOUTHERN', u'Saturday', u'Sunday', u'TARAVAL', u'TENDERLOIN',\n",
       "       u'Thursday', u'Tuesday', u'Wednesday', u'X', u'Y', u'Year'],\n",
       "      dtype='object')"
      ]
     },
     "execution_count": 12,
     "metadata": {},
     "output_type": "execute_result"
    }
   ],
   "source": [
    "X_all.columns"
   ]
  },
  {
   "cell_type": "code",
   "execution_count": 13,
   "metadata": {
    "collapsed": false
   },
   "outputs": [
    {
     "data": {
      "text/html": [
       "<div>\n",
       "<table border=\"1\" class=\"dataframe\">\n",
       "  <thead>\n",
       "    <tr style=\"text-align: right;\">\n",
       "      <th></th>\n",
       "      <th>ARSON</th>\n",
       "      <th>ASSAULT</th>\n",
       "      <th>BAD CHECKS</th>\n",
       "      <th>BRIBERY</th>\n",
       "      <th>BURGLARY</th>\n",
       "      <th>DISORDERLY CONDUCT</th>\n",
       "      <th>DRIVING UNDER THE INFLUENCE</th>\n",
       "      <th>DRUG/NARCOTIC</th>\n",
       "      <th>DRUNKENNESS</th>\n",
       "      <th>EMBEZZLEMENT</th>\n",
       "      <th>...</th>\n",
       "      <th>SEX OFFENSES NON FORCIBLE</th>\n",
       "      <th>STOLEN PROPERTY</th>\n",
       "      <th>SUICIDE</th>\n",
       "      <th>SUSPICIOUS OCC</th>\n",
       "      <th>TREA</th>\n",
       "      <th>TRESPASS</th>\n",
       "      <th>VANDALISM</th>\n",
       "      <th>VEHICLE THEFT</th>\n",
       "      <th>WARRANTS</th>\n",
       "      <th>WEAPON LAWS</th>\n",
       "    </tr>\n",
       "  </thead>\n",
       "  <tbody>\n",
       "    <tr>\n",
       "      <th>0</th>\n",
       "      <td>0</td>\n",
       "      <td>0</td>\n",
       "      <td>0</td>\n",
       "      <td>0</td>\n",
       "      <td>0</td>\n",
       "      <td>0</td>\n",
       "      <td>0</td>\n",
       "      <td>0</td>\n",
       "      <td>0</td>\n",
       "      <td>0</td>\n",
       "      <td>...</td>\n",
       "      <td>0</td>\n",
       "      <td>0</td>\n",
       "      <td>0</td>\n",
       "      <td>0</td>\n",
       "      <td>0</td>\n",
       "      <td>0</td>\n",
       "      <td>0</td>\n",
       "      <td>0</td>\n",
       "      <td>1</td>\n",
       "      <td>0</td>\n",
       "    </tr>\n",
       "    <tr>\n",
       "      <th>1</th>\n",
       "      <td>0</td>\n",
       "      <td>0</td>\n",
       "      <td>0</td>\n",
       "      <td>0</td>\n",
       "      <td>0</td>\n",
       "      <td>0</td>\n",
       "      <td>0</td>\n",
       "      <td>0</td>\n",
       "      <td>0</td>\n",
       "      <td>0</td>\n",
       "      <td>...</td>\n",
       "      <td>0</td>\n",
       "      <td>0</td>\n",
       "      <td>0</td>\n",
       "      <td>0</td>\n",
       "      <td>0</td>\n",
       "      <td>0</td>\n",
       "      <td>0</td>\n",
       "      <td>0</td>\n",
       "      <td>0</td>\n",
       "      <td>0</td>\n",
       "    </tr>\n",
       "    <tr>\n",
       "      <th>2</th>\n",
       "      <td>0</td>\n",
       "      <td>0</td>\n",
       "      <td>0</td>\n",
       "      <td>0</td>\n",
       "      <td>0</td>\n",
       "      <td>0</td>\n",
       "      <td>0</td>\n",
       "      <td>0</td>\n",
       "      <td>0</td>\n",
       "      <td>0</td>\n",
       "      <td>...</td>\n",
       "      <td>0</td>\n",
       "      <td>0</td>\n",
       "      <td>0</td>\n",
       "      <td>0</td>\n",
       "      <td>0</td>\n",
       "      <td>0</td>\n",
       "      <td>0</td>\n",
       "      <td>0</td>\n",
       "      <td>0</td>\n",
       "      <td>0</td>\n",
       "    </tr>\n",
       "    <tr>\n",
       "      <th>3</th>\n",
       "      <td>0</td>\n",
       "      <td>0</td>\n",
       "      <td>0</td>\n",
       "      <td>0</td>\n",
       "      <td>0</td>\n",
       "      <td>0</td>\n",
       "      <td>0</td>\n",
       "      <td>0</td>\n",
       "      <td>0</td>\n",
       "      <td>0</td>\n",
       "      <td>...</td>\n",
       "      <td>0</td>\n",
       "      <td>0</td>\n",
       "      <td>0</td>\n",
       "      <td>0</td>\n",
       "      <td>0</td>\n",
       "      <td>0</td>\n",
       "      <td>0</td>\n",
       "      <td>0</td>\n",
       "      <td>0</td>\n",
       "      <td>0</td>\n",
       "    </tr>\n",
       "    <tr>\n",
       "      <th>4</th>\n",
       "      <td>0</td>\n",
       "      <td>0</td>\n",
       "      <td>0</td>\n",
       "      <td>0</td>\n",
       "      <td>0</td>\n",
       "      <td>0</td>\n",
       "      <td>0</td>\n",
       "      <td>0</td>\n",
       "      <td>0</td>\n",
       "      <td>0</td>\n",
       "      <td>...</td>\n",
       "      <td>0</td>\n",
       "      <td>0</td>\n",
       "      <td>0</td>\n",
       "      <td>0</td>\n",
       "      <td>0</td>\n",
       "      <td>0</td>\n",
       "      <td>0</td>\n",
       "      <td>0</td>\n",
       "      <td>0</td>\n",
       "      <td>0</td>\n",
       "    </tr>\n",
       "  </tbody>\n",
       "</table>\n",
       "<p>5 rows × 39 columns</p>\n",
       "</div>"
      ],
      "text/plain": [
       "   ARSON  ASSAULT  BAD CHECKS  BRIBERY  BURGLARY  DISORDERLY CONDUCT  \\\n",
       "0      0        0           0        0         0                   0   \n",
       "1      0        0           0        0         0                   0   \n",
       "2      0        0           0        0         0                   0   \n",
       "3      0        0           0        0         0                   0   \n",
       "4      0        0           0        0         0                   0   \n",
       "\n",
       "   DRIVING UNDER THE INFLUENCE  DRUG/NARCOTIC  DRUNKENNESS  EMBEZZLEMENT  \\\n",
       "0                            0              0            0             0   \n",
       "1                            0              0            0             0   \n",
       "2                            0              0            0             0   \n",
       "3                            0              0            0             0   \n",
       "4                            0              0            0             0   \n",
       "\n",
       "      ...       SEX OFFENSES NON FORCIBLE  STOLEN PROPERTY  SUICIDE  \\\n",
       "0     ...                               0                0        0   \n",
       "1     ...                               0                0        0   \n",
       "2     ...                               0                0        0   \n",
       "3     ...                               0                0        0   \n",
       "4     ...                               0                0        0   \n",
       "\n",
       "   SUSPICIOUS OCC  TREA  TRESPASS  VANDALISM  VEHICLE THEFT  WARRANTS  \\\n",
       "0               0     0         0          0              0         1   \n",
       "1               0     0         0          0              0         0   \n",
       "2               0     0         0          0              0         0   \n",
       "3               0     0         0          0              0         0   \n",
       "4               0     0         0          0              0         0   \n",
       "\n",
       "   WEAPON LAWS  \n",
       "0            0  \n",
       "1            0  \n",
       "2            0  \n",
       "3            0  \n",
       "4            0  \n",
       "\n",
       "[5 rows x 39 columns]"
      ]
     },
     "execution_count": 13,
     "metadata": {},
     "output_type": "execute_result"
    }
   ],
   "source": [
    "y_all = processed_crime_data[target_cols]\n",
    "y_all.head()"
   ]
  },
  {
   "cell_type": "code",
   "execution_count": 14,
   "metadata": {
    "collapsed": false,
    "scrolled": true
   },
   "outputs": [
    {
     "name": "stdout",
     "output_type": "stream",
     "text": [
      "Done split!\n",
      "Number of Training set: 702439\n",
      "Number of Testing set: 175610\n"
     ]
    }
   ],
   "source": [
    "from sklearn.cross_validation import train_test_split\n",
    "from sklearn import metrics\n",
    "\n",
    "X_train, X_test, y_train, y_test = train_test_split(X_all, y_all,test_size=0.2)\n",
    "print \"Done split!\"\n",
    "\n",
    "print \"Number of Training set: {}\".format(len(X_train)) \n",
    "print \"Number of Testing set: {}\".format(len(X_test)) "
   ]
  },
  {
   "cell_type": "code",
   "execution_count": 30,
   "metadata": {
    "collapsed": false
   },
   "outputs": [
    {
     "name": "stdout",
     "output_type": "stream",
     "text": [
      "Done fitting!\n"
     ]
    }
   ],
   "source": [
    "from sklearn.neighbors import KNeighborsClassifier\n",
    "from sklearn.feature_selection import SelectFromModel\n",
    "from sklearn.ensemble import RandomForestClassifier\n",
    "from sklearn import tree\n",
    "\n",
    "#clf = KNeighborsClassifier(n_neighbors=10) #accuracy = 0.1987\n",
    "#clf = tree.DecisionTreeClassifier(max_depth=500)\n",
    "clf = RandomForestClassifier(max_depth=16,n_estimators=25)\n",
    "\n",
    "clf.fit(X_train, y_train)\n",
    "print \"Done fitting!\"\n",
    "\n",
    "\n",
    "#sfm = SelectFromModel(clf, threshold=0.25)\n",
    "#sfm.fit(X, y)\n",
    "#n_features = sfm.transform(X).shape[1]"
   ]
  },
  {
   "cell_type": "code",
   "execution_count": 31,
   "metadata": {
    "collapsed": false
   },
   "outputs": [],
   "source": [
    "#from sklearn.externals import joblib\n",
    "#joblib.dump(clf, 'model.pkl') "
   ]
  },
  {
   "cell_type": "code",
   "execution_count": 32,
   "metadata": {
    "collapsed": false
   },
   "outputs": [],
   "source": [
    "#from sklearn.externals import joblib\n",
    "#clf = joblib.load('model.pkl')"
   ]
  },
  {
   "cell_type": "code",
   "execution_count": 33,
   "metadata": {
    "collapsed": false
   },
   "outputs": [],
   "source": [
    "#y_pred_class = clf.predict(X_test)\n",
    "#print \"done predictions\"\n",
    "#print \"Testing set accuracy: {}\".format(metrics.accuracy(y_test, y_pred_class))\n",
    "\n",
    "#y_pred_train_class = clf.predict(X_train)\n",
    "#print \"Training set accuracy: {}\".format(metrics.accuracy(y_train, y_pred_train_class))"
   ]
  },
  {
   "cell_type": "code",
   "execution_count": null,
   "metadata": {
    "collapsed": false
   },
   "outputs": [],
   "source": [
    "t_score = clf.score(X_train,y_train)\n",
    "print \"Training Score = {}\".format(t_score)\n",
    "\n",
    "tt_score = clf.score(X_test,y_test)\n",
    "print \"Testing Score = {}\".format(tt_score)"
   ]
  },
  {
   "cell_type": "code",
   "execution_count": 21,
   "metadata": {
    "collapsed": true
   },
   "outputs": [],
   "source": [
    "predicted_probs = [x[:,1] for x in y_pred_class]"
   ]
  },
  {
   "cell_type": "code",
   "execution_count": 22,
   "metadata": {
    "collapsed": false
   },
   "outputs": [
    {
     "data": {
      "text/plain": [
       "[array([  5.01636727e-03,   1.00792192e-03,   4.13223140e-05, ...,\n",
       "          6.10963297e-03,   1.74450254e-03,   7.60699260e-04]),\n",
       " array([ 0.16824173,  0.08148076,  0.14311254, ...,  0.04383052,\n",
       "         0.06111922,  0.06203966]),\n",
       " array([  5.56715379e-05,   0.00000000e+00,   1.23966942e-04, ...,\n",
       "          0.00000000e+00,   3.18217979e-05,   4.06226010e-04]),\n",
       " array([ 0.00122207,  0.00073612,  0.        , ...,  0.        ,\n",
       "         0.00040772,  0.        ]),\n",
       " array([ 0.054273  ,  0.02504898,  0.0098452 , ...,  0.06956848,\n",
       "         0.05639463,  0.07931288]),\n",
       " array([ 0.00085675,  0.00784647,  0.00502296, ...,  0.00305187,\n",
       "         0.00301595,  0.00046616]),\n",
       " array([ 0.00142411,  0.00274524,  0.00063492, ...,  0.00024509,\n",
       "         0.        ,  0.00030251]),\n",
       " array([ 0.05452233,  0.04577719,  0.1003827 , ...,  0.01155189,\n",
       "         0.0196362 ,  0.01736358]),\n",
       " array([ 0.0025055 ,  0.00406064,  0.00364236, ...,  0.00861272,\n",
       "         0.00029393,  0.00508288]),\n",
       " array([  1.51457781e-05,   1.98826333e-04,   0.00000000e+00, ...,\n",
       "          0.00000000e+00,   1.04064703e-03,   1.02822656e-03]),\n",
       " array([  2.80996022e-04,   0.00000000e+00,   0.00000000e+00, ...,\n",
       "          0.00000000e+00,   5.43109301e-05,   8.02019618e-04]),\n",
       " array([ 0.00205717,  0.00017109,  0.00022989, ...,  0.00025174,\n",
       "         0.00135633,  0.00021332]),\n",
       " array([ 0.00883947,  0.00165179,  0.00138741, ...,  0.00227644,\n",
       "         0.03978974,  0.00924521]),\n",
       " array([ 0.0055418 ,  0.00609013,  0.04174828, ...,  0.00653373,\n",
       "         0.03017727,  0.01345904]),\n",
       " array([ 0.        ,  0.        ,  0.        , ...,  0.        ,\n",
       "         0.00015015,  0.00011202]),\n",
       " array([ 0.00613563,  0.00149702,  0.00137956, ...,  0.00221815,\n",
       "         0.00155638,  0.00250656]),\n",
       " array([ 0.06544366,  0.08060694,  0.136002  , ...,  0.26994844,\n",
       "         0.08147899,  0.39528687]),\n",
       " array([ 0.00039107,  0.00298886,  0.00098162, ...,  0.00100629,\n",
       "         0.00055126,  0.00746226]),\n",
       " array([  3.19866049e-04,   1.48576064e-04,   7.58887577e-04, ...,\n",
       "          7.39371534e-05,   0.00000000e+00,   4.04302826e-03]),\n",
       " array([ 0.03740487,  0.23551081,  0.0078857 , ...,  0.00583008,\n",
       "         0.04928437,  0.01336499]),\n",
       " array([ 0.04284862,  0.03850158,  0.08166134, ...,  0.07569988,\n",
       "         0.14782427,  0.10374779]),\n",
       " array([ 0.16131389,  0.16316217,  0.16552169, ...,  0.08269874,\n",
       "         0.10644606,  0.08501524]),\n",
       " array([ 0.,  0.,  0., ...,  0.,  0.,  0.]),\n",
       " array([  9.04977376e-05,   2.86372500e-02,   4.73370064e-03, ...,\n",
       "          0.00000000e+00,   7.89572293e-04,   4.08180447e-04]),\n",
       " array([ 0.01248647,  0.0023015 ,  0.        , ...,  0.        ,\n",
       "         0.0025291 ,  0.00054013]),\n",
       " array([ 0.03702859,  0.04783513,  0.02757574, ...,  0.02620701,\n",
       "         0.02647455,  0.02042653]),\n",
       " array([ 0.00142307,  0.00797388,  0.        , ...,  0.00044891,\n",
       "         0.00201362,  0.00068838]),\n",
       " array([ 0.02678037,  0.0254543 ,  0.00295875, ...,  0.00749445,\n",
       "         0.00728725,  0.0058835 ]),\n",
       " array([ 0.0039289 ,  0.00786174,  0.00592501, ...,  0.00097574,\n",
       "         0.00488146,  0.00461187]),\n",
       " array([  1.51457781e-05,   4.59242250e-05,   0.00000000e+00, ...,\n",
       "          0.00000000e+00,   0.00000000e+00,   0.00000000e+00]),\n",
       " array([ 0.00380849,  0.00153862,  0.00234589, ...,  0.00184524,\n",
       "         0.00290928,  0.00493034]),\n",
       " array([ 0.00034234,  0.00087922,  0.00020661, ...,  0.        ,\n",
       "         0.00041554,  0.        ]),\n",
       " array([ 0.04600836,  0.02085735,  0.00999248, ...,  0.03521711,\n",
       "         0.03934752,  0.0220308 ]),\n",
       " array([ 0.00115687,  0.        ,  0.        , ...,  0.        ,\n",
       "         0.        ,  0.        ]),\n",
       " array([ 0.00575274,  0.01030856,  0.01632751, ...,  0.00065611,\n",
       "         0.00328024,  0.0094569 ]),\n",
       " array([ 0.10239299,  0.04277627,  0.02724113, ...,  0.09430796,\n",
       "         0.04682203,  0.05944891]),\n",
       " array([ 0.06362157,  0.02110377,  0.13916332, ...,  0.22501559,\n",
       "         0.2129275 ,  0.03782271]),\n",
       " array([ 0.04465758,  0.07914459,  0.0497316 , ...,  0.01672061,\n",
       "         0.03442647,  0.02719114]),\n",
       " array([ 0.03179631,  0.00405077,  0.01343592, ...,  0.00160364,\n",
       "         0.0135421 ,  0.00453944])]"
      ]
     },
     "execution_count": 22,
     "metadata": {},
     "output_type": "execute_result"
    }
   ],
   "source": [
    "predicted_probs"
   ]
  },
  {
   "cell_type": "code",
   "execution_count": null,
   "metadata": {
    "collapsed": false
   },
   "outputs": [],
   "source": [
    "#Read Crime Test Data\n",
    "crime_test_data = pd.read_csv(\"test.csv\", parse_dates=['Dates'])\n",
    "print \"Data read successfully!\""
   ]
  },
  {
   "cell_type": "code",
   "execution_count": null,
   "metadata": {
    "collapsed": false,
    "scrolled": true
   },
   "outputs": [],
   "source": [
    "processed_crime_test_data = PreProcess(crime_test_data, True)\n",
    "processed_crime_test_data = processed_crime_test_data.sort_index(axis=1)\n",
    "processed_crime_test_data.head()"
   ]
  },
  {
   "cell_type": "code",
   "execution_count": null,
   "metadata": {
    "collapsed": false
   },
   "outputs": [],
   "source": [
    "y_pred_class_test = clf.predict_proba(processed_crime_test_data)\n",
    "print \"Prediction done!\"  \n"
   ]
  },
  {
   "cell_type": "code",
   "execution_count": null,
   "metadata": {
    "collapsed": false
   },
   "outputs": [],
   "source": [
    "len(y_pred_class_test[0][:,1])"
   ]
  },
  {
   "cell_type": "code",
   "execution_count": null,
   "metadata": {
    "collapsed": false
   },
   "outputs": [],
   "source": [
    "max(y_pred_class_test[5][:,1])"
   ]
  },
  {
   "cell_type": "code",
   "execution_count": null,
   "metadata": {
    "collapsed": false
   },
   "outputs": [],
   "source": [
    "# convert to CSV\n",
    "submission = pd.DataFrame(y_pred_class_test[0], columns=target_cols)\n",
    "submission.to_csv('today submission.csv', index=False, header=True)\n",
    "print \"done conversion\"\n"
   ]
  },
  {
   "cell_type": "code",
   "execution_count": null,
   "metadata": {
    "collapsed": true
   },
   "outputs": [],
   "source": []
  },
  {
   "cell_type": "code",
   "execution_count": null,
   "metadata": {
    "collapsed": true
   },
   "outputs": [],
   "source": []
  }
 ],
 "metadata": {
  "kernelspec": {
   "display_name": "Python 2",
   "language": "python",
   "name": "python2"
  },
  "language_info": {
   "codemirror_mode": {
    "name": "ipython",
    "version": 2
   },
   "file_extension": ".py",
   "mimetype": "text/x-python",
   "name": "python",
   "nbconvert_exporter": "python",
   "pygments_lexer": "ipython2",
   "version": "2.7.11"
  }
 },
 "nbformat": 4,
 "nbformat_minor": 0
}
